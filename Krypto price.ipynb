{
 "cells": [
  {
   "cell_type": "code",
   "execution_count": null,
   "id": "95d1169d",
   "metadata": {},
   "outputs": [],
   "source": [
    "#Šita programa realių laiku seka ir spaudzina krypto valiutų kaina/kitima.\n",
    "#Puikus įankis musų krypto valiutų startapui.\n",
    "\n",
    "#Naudotos bibliotekos\n",
    "from bs4 import BeautifulSoup\n",
    "import requests\n",
    "import time \n",
    "#:)"
   ]
  },
  {
   "cell_type": "code",
   "execution_count": null,
   "id": "ff8acadc",
   "metadata": {
    "scrolled": false
   },
   "outputs": [],
   "source": [
    "#Paemame URL is kurio imame kainas\n",
    "url = 'https://www.coindesk.com/price/bitcoin/'\n",
    "\n",
    "#Pateikiame užklausą į svetainę\n",
    "HTML = requests.get(url)\n",
    "\n",
    "#Naudojame beatifulSoup, kad perkeisti HTML formata i soup, kad imanoma butu analizuoti saito turini\n",
    "soup = BeautifulSoup(HTML.text, \"html.parser\")\n",
    "\n",
    "#Galime spaudzinti Sriuba gat surasti zyma kurioje yra kainos\n",
    "#print(soup.prettify())\n",
    "#atsakyma yra\n",
    "#Box-sc-1hpkeeg-0 jwYVXk\n"
   ]
  },
  {
   "cell_type": "code",
   "execution_count": null,
   "id": "395042ba",
   "metadata": {},
   "outputs": [],
   "source": [
    "#Sukurkiame funkciją, kad gautumėme kriptovaliutos kainą\n",
    "def get_crypto_price(crypto):\n",
    "    #Naudojame Python magijos,kad linka galima butu keisti, i dominancia valiuta\n",
    "    url = 'https://www.coindesk.com/price/'+crypto+'/'\n",
    "\n",
    "    #Pateikiame  užklausą į svetainę\n",
    "    HTML = requests.get(url)\n",
    "\n",
    "    #Perkeiciame html i soup formata\n",
    "    soup = BeautifulSoup(HTML.text, \"html.parser\")\n",
    "\n",
    "    #Randame kaina\n",
    "    price = soup.find('div', {'class':'Box-sc-1hpkeeg-0 jwYVXk'}).text\n",
    "    \n",
    "    #graziname kaina\n",
    "    return price\n"
   ]
  },
  {
   "cell_type": "code",
   "execution_count": null,
   "id": "03b10497",
   "metadata": {},
   "outputs": [],
   "source": [
    "#Centralized coin,easily manipulated, the community is semi cult, buy to sell latter\n",
    "price =get_crypto_price('ethereum')\n",
    "print(price)"
   ]
  },
  {
   "cell_type": "code",
   "execution_count": null,
   "id": "562bfb38",
   "metadata": {},
   "outputs": [],
   "source": [
    "#Sergay is a traitor - always sells at the top,the community is a scary cult, do not buy\n",
    "price =get_crypto_price('Chainlink')\n",
    "print(price)"
   ]
  },
  {
   "cell_type": "code",
   "execution_count": null,
   "id": "85b89bbc",
   "metadata": {},
   "outputs": [],
   "source": [
    "#The original, decentralized, not ran by traitors and evildoers, ran purerly by market demand. Easy to predict. \n",
    "price =get_crypto_price('Bitcoin')\n",
    "print(price)"
   ]
  },
  {
   "cell_type": "code",
   "execution_count": null,
   "id": "cab8ce11",
   "metadata": {},
   "outputs": [],
   "source": [
    "#Buy to *potentially* retire in five years, but high risk. Akita Inu are greater dogs, thought\n",
    "price =get_crypto_price('shiba-inu')\n",
    "print(price)"
   ]
  },
  {
   "cell_type": "code",
   "execution_count": null,
   "id": "2c498f11",
   "metadata": {},
   "outputs": [],
   "source": [
    "#Sukurkiame funkciją, kuri nuosekliai rodo krypto valiutu kaina ir kityma \n",
    "def crypto_price():\n",
    "    last_price = -1\n",
    "    #sukuriame cykla kuris testinai rodo kryptovaliutu kaina\n",
    "    while True:\n",
    "        #Pasirenkame krytpo valiuto kurios kaina norime matyti\n",
    "        crypto = 'Ethereum'\n",
    "        #Gauname krypto valiutos kaina\n",
    "        price = get_crypto_price(crypto)\n",
    "        #spauzdiname kaina ir jos pokyti\n",
    "        if price != last_price:\n",
    "          print(crypto + 'price: ', price)\n",
    "        last_price = price\n",
    "    time.sleep(1)"
   ]
  },
  {
   "cell_type": "code",
   "execution_count": null,
   "id": "1dada777",
   "metadata": {},
   "outputs": [],
   "source": [
    "crypto_price()"
   ]
  },
  {
   "cell_type": "code",
   "execution_count": null,
   "id": "9e56780d",
   "metadata": {},
   "outputs": [],
   "source": []
  }
 ],
 "metadata": {
  "kernelspec": {
   "display_name": "Python 3 (ipykernel)",
   "language": "python",
   "name": "python3"
  },
  "language_info": {
   "codemirror_mode": {
    "name": "ipython",
    "version": 3
   },
   "file_extension": ".py",
   "mimetype": "text/x-python",
   "name": "python",
   "nbconvert_exporter": "python",
   "pygments_lexer": "ipython3",
   "version": "3.9.9"
  }
 },
 "nbformat": 4,
 "nbformat_minor": 5
}
